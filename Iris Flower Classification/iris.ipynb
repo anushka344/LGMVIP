{
 "cells": [
  {
   "cell_type": "markdown",
   "id": "03225a5d",
   "metadata": {},
   "source": [
    "**Iris Flowers Classification**"
   ]
  },
  {
   "cell_type": "markdown",
   "id": "440ae47d",
   "metadata": {},
   "source": [
    "Importing the libraries"
   ]
  },
  {
   "cell_type": "code",
   "execution_count": 56,
   "id": "5163fbec",
   "metadata": {},
   "outputs": [],
   "source": [
    "import numpy as np\n",
    "import pandas as pd\n",
    "import seaborn as sns\n",
    "import matplotlib.pyplot as plt"
   ]
  },
  {
   "cell_type": "markdown",
   "id": "2a10eac1",
   "metadata": {},
   "source": [
    "Importing the Dataset"
   ]
  },
  {
   "cell_type": "code",
   "execution_count": 57,
   "id": "11b5b286",
   "metadata": {},
   "outputs": [],
   "source": [
    "df=pd.read_csv('Iris.csv')"
   ]
  },
  {
   "cell_type": "code",
   "execution_count": 58,
   "id": "d683a99c",
   "metadata": {},
   "outputs": [
    {
     "data": {
      "text/html": [
       "<div>\n",
       "<style scoped>\n",
       "    .dataframe tbody tr th:only-of-type {\n",
       "        vertical-align: middle;\n",
       "    }\n",
       "\n",
       "    .dataframe tbody tr th {\n",
       "        vertical-align: top;\n",
       "    }\n",
       "\n",
       "    .dataframe thead th {\n",
       "        text-align: right;\n",
       "    }\n",
       "</style>\n",
       "<table border=\"1\" class=\"dataframe\">\n",
       "  <thead>\n",
       "    <tr style=\"text-align: right;\">\n",
       "      <th></th>\n",
       "      <th>Id</th>\n",
       "      <th>SepalLengthCm</th>\n",
       "      <th>SepalWidthCm</th>\n",
       "      <th>PetalLengthCm</th>\n",
       "      <th>PetalWidthCm</th>\n",
       "      <th>Species</th>\n",
       "    </tr>\n",
       "  </thead>\n",
       "  <tbody>\n",
       "    <tr>\n",
       "      <th>0</th>\n",
       "      <td>1</td>\n",
       "      <td>5.1</td>\n",
       "      <td>3.5</td>\n",
       "      <td>1.4</td>\n",
       "      <td>0.2</td>\n",
       "      <td>Iris-setosa</td>\n",
       "    </tr>\n",
       "    <tr>\n",
       "      <th>1</th>\n",
       "      <td>2</td>\n",
       "      <td>4.9</td>\n",
       "      <td>3.0</td>\n",
       "      <td>1.4</td>\n",
       "      <td>0.2</td>\n",
       "      <td>Iris-setosa</td>\n",
       "    </tr>\n",
       "    <tr>\n",
       "      <th>2</th>\n",
       "      <td>3</td>\n",
       "      <td>4.7</td>\n",
       "      <td>3.2</td>\n",
       "      <td>1.3</td>\n",
       "      <td>0.2</td>\n",
       "      <td>Iris-setosa</td>\n",
       "    </tr>\n",
       "    <tr>\n",
       "      <th>3</th>\n",
       "      <td>4</td>\n",
       "      <td>4.6</td>\n",
       "      <td>3.1</td>\n",
       "      <td>1.5</td>\n",
       "      <td>0.2</td>\n",
       "      <td>Iris-setosa</td>\n",
       "    </tr>\n",
       "    <tr>\n",
       "      <th>4</th>\n",
       "      <td>5</td>\n",
       "      <td>5.0</td>\n",
       "      <td>3.6</td>\n",
       "      <td>1.4</td>\n",
       "      <td>0.2</td>\n",
       "      <td>Iris-setosa</td>\n",
       "    </tr>\n",
       "  </tbody>\n",
       "</table>\n",
       "</div>"
      ],
      "text/plain": [
       "   Id  SepalLengthCm  SepalWidthCm  PetalLengthCm  PetalWidthCm      Species\n",
       "0   1            5.1           3.5            1.4           0.2  Iris-setosa\n",
       "1   2            4.9           3.0            1.4           0.2  Iris-setosa\n",
       "2   3            4.7           3.2            1.3           0.2  Iris-setosa\n",
       "3   4            4.6           3.1            1.5           0.2  Iris-setosa\n",
       "4   5            5.0           3.6            1.4           0.2  Iris-setosa"
      ]
     },
     "execution_count": 58,
     "metadata": {},
     "output_type": "execute_result"
    }
   ],
   "source": [
    "df.head()"
   ]
  },
  {
   "cell_type": "code",
   "execution_count": 59,
   "id": "bf946055",
   "metadata": {},
   "outputs": [
    {
     "data": {
      "text/plain": [
       "(150, 6)"
      ]
     },
     "execution_count": 59,
     "metadata": {},
     "output_type": "execute_result"
    }
   ],
   "source": [
    "df.shape"
   ]
  },
  {
   "cell_type": "code",
   "execution_count": 60,
   "id": "8c6c5eb8",
   "metadata": {},
   "outputs": [
    {
     "data": {
      "text/plain": [
       "<bound method NDFrame.describe of       Id  SepalLengthCm  SepalWidthCm  PetalLengthCm  PetalWidthCm  \\\n",
       "0      1            5.1           3.5            1.4           0.2   \n",
       "1      2            4.9           3.0            1.4           0.2   \n",
       "2      3            4.7           3.2            1.3           0.2   \n",
       "3      4            4.6           3.1            1.5           0.2   \n",
       "4      5            5.0           3.6            1.4           0.2   \n",
       "..   ...            ...           ...            ...           ...   \n",
       "145  146            6.7           3.0            5.2           2.3   \n",
       "146  147            6.3           2.5            5.0           1.9   \n",
       "147  148            6.5           3.0            5.2           2.0   \n",
       "148  149            6.2           3.4            5.4           2.3   \n",
       "149  150            5.9           3.0            5.1           1.8   \n",
       "\n",
       "            Species  \n",
       "0       Iris-setosa  \n",
       "1       Iris-setosa  \n",
       "2       Iris-setosa  \n",
       "3       Iris-setosa  \n",
       "4       Iris-setosa  \n",
       "..              ...  \n",
       "145  Iris-virginica  \n",
       "146  Iris-virginica  \n",
       "147  Iris-virginica  \n",
       "148  Iris-virginica  \n",
       "149  Iris-virginica  \n",
       "\n",
       "[150 rows x 6 columns]>"
      ]
     },
     "execution_count": 60,
     "metadata": {},
     "output_type": "execute_result"
    }
   ],
   "source": [
    "df.describe"
   ]
  },
  {
   "cell_type": "code",
   "execution_count": 61,
   "id": "76cd6ac3",
   "metadata": {},
   "outputs": [
    {
     "name": "stdout",
     "output_type": "stream",
     "text": [
      "<class 'pandas.core.frame.DataFrame'>\n",
      "RangeIndex: 150 entries, 0 to 149\n",
      "Data columns (total 6 columns):\n",
      " #   Column         Non-Null Count  Dtype  \n",
      "---  ------         --------------  -----  \n",
      " 0   Id             150 non-null    int64  \n",
      " 1   SepalLengthCm  150 non-null    float64\n",
      " 2   SepalWidthCm   150 non-null    float64\n",
      " 3   PetalLengthCm  150 non-null    float64\n",
      " 4   PetalWidthCm   150 non-null    float64\n",
      " 5   Species        150 non-null    object \n",
      "dtypes: float64(4), int64(1), object(1)\n",
      "memory usage: 7.2+ KB\n"
     ]
    }
   ],
   "source": [
    "df.info()"
   ]
  },
  {
   "cell_type": "code",
   "execution_count": 62,
   "id": "8b92643d",
   "metadata": {},
   "outputs": [
    {
     "data": {
      "text/plain": [
       "Id               False\n",
       "SepalLengthCm    False\n",
       "SepalWidthCm     False\n",
       "PetalLengthCm    False\n",
       "PetalWidthCm     False\n",
       "Species          False\n",
       "dtype: bool"
      ]
     },
     "execution_count": 62,
     "metadata": {},
     "output_type": "execute_result"
    }
   ],
   "source": [
    "df.isnull().any()"
   ]
  },
  {
   "cell_type": "code",
   "execution_count": 85,
   "id": "09f73091",
   "metadata": {},
   "outputs": [],
   "source": [
    "#dropping id column\n",
    "df.drop(['Id'],axis=1,inplace=True)\n"
   ]
  },
  {
   "cell_type": "code",
   "execution_count": 86,
   "id": "677b65a3",
   "metadata": {},
   "outputs": [
    {
     "data": {
      "text/plain": [
       "<AxesSubplot:xlabel='Species', ylabel='count'>"
      ]
     },
     "execution_count": 86,
     "metadata": {},
     "output_type": "execute_result"
    },
    {
     "data": {
      "image/png": "[encoded data removed]",
      "text/plain": [
       "<Figure size 432x288 with 1 Axes>"
      ]
     },
     "metadata": {
      "needs_background": "light"
     },
     "output_type": "display_data"
    }
   ],
   "source": [
    "sns.countplot(x='Species',data=df)"
   ]
  },
  {
   "cell_type": "code",
   "execution_count": 87,
   "id": "02c28ff2",
   "metadata": {},
   "outputs": [
    {
     "data": {
      "text/html": [
       "<div>\n",
       "<style scoped>\n",
       "    .dataframe tbody tr th:only-of-type {\n",
       "        vertical-align: middle;\n",
       "    }\n",
       "\n",
       "    .dataframe tbody tr th {\n",
       "        vertical-align: top;\n",
       "    }\n",
       "\n",
       "    .dataframe thead th {\n",
       "        text-align: right;\n",
       "    }\n",
       "</style>\n",
       "<table border=\"1\" class=\"dataframe\">\n",
       "  <thead>\n",
       "    <tr style=\"text-align: right;\">\n",
       "      <th></th>\n",
       "      <th>SepalWidthCm</th>\n",
       "      <th>PetalLengthCm</th>\n",
       "      <th>PetalWidthCm</th>\n",
       "      <th>Species</th>\n",
       "    </tr>\n",
       "  </thead>\n",
       "  <tbody>\n",
       "    <tr>\n",
       "      <th>0</th>\n",
       "      <td>3.5</td>\n",
       "      <td>1.4</td>\n",
       "      <td>0.2</td>\n",
       "      <td>Iris-setosa</td>\n",
       "    </tr>\n",
       "    <tr>\n",
       "      <th>1</th>\n",
       "      <td>3.0</td>\n",
       "      <td>1.4</td>\n",
       "      <td>0.2</td>\n",
       "      <td>Iris-setosa</td>\n",
       "    </tr>\n",
       "    <tr>\n",
       "      <th>2</th>\n",
       "      <td>3.2</td>\n",
       "      <td>1.3</td>\n",
       "      <td>0.2</td>\n",
       "      <td>Iris-setosa</td>\n",
       "    </tr>\n",
       "    <tr>\n",
       "      <th>3</th>\n",
       "      <td>3.1</td>\n",
       "      <td>1.5</td>\n",
       "      <td>0.2</td>\n",
       "      <td>Iris-setosa</td>\n",
       "    </tr>\n",
       "    <tr>\n",
       "      <th>4</th>\n",
       "      <td>3.6</td>\n",
       "      <td>1.4</td>\n",
       "      <td>0.2</td>\n",
       "      <td>Iris-setosa</td>\n",
       "    </tr>\n",
       "    <tr>\n",
       "      <th>...</th>\n",
       "      <td>...</td>\n",
       "      <td>...</td>\n",
       "      <td>...</td>\n",
       "      <td>...</td>\n",
       "    </tr>\n",
       "    <tr>\n",
       "      <th>145</th>\n",
       "      <td>3.0</td>\n",
       "      <td>5.2</td>\n",
       "      <td>2.3</td>\n",
       "      <td>Iris-virginica</td>\n",
       "    </tr>\n",
       "    <tr>\n",
       "      <th>146</th>\n",
       "      <td>2.5</td>\n",
       "      <td>5.0</td>\n",
       "      <td>1.9</td>\n",
       "      <td>Iris-virginica</td>\n",
       "    </tr>\n",
       "    <tr>\n",
       "      <th>147</th>\n",
       "      <td>3.0</td>\n",
       "      <td>5.2</td>\n",
       "      <td>2.0</td>\n",
       "      <td>Iris-virginica</td>\n",
       "    </tr>\n",
       "    <tr>\n",
       "      <th>148</th>\n",
       "      <td>3.4</td>\n",
       "      <td>5.4</td>\n",
       "      <td>2.3</td>\n",
       "      <td>Iris-virginica</td>\n",
       "    </tr>\n",
       "    <tr>\n",
       "      <th>149</th>\n",
       "      <td>3.0</td>\n",
       "      <td>5.1</td>\n",
       "      <td>1.8</td>\n",
       "      <td>Iris-virginica</td>\n",
       "    </tr>\n",
       "  </tbody>\n",
       "</table>\n",
       "<p>150 rows × 4 columns</p>\n",
       "</div>"
      ],
      "text/plain": [
       "     SepalWidthCm  PetalLengthCm  PetalWidthCm         Species\n",
       "0             3.5            1.4           0.2     Iris-setosa\n",
       "1             3.0            1.4           0.2     Iris-setosa\n",
       "2             3.2            1.3           0.2     Iris-setosa\n",
       "3             3.1            1.5           0.2     Iris-setosa\n",
       "4             3.6            1.4           0.2     Iris-setosa\n",
       "..            ...            ...           ...             ...\n",
       "145           3.0            5.2           2.3  Iris-virginica\n",
       "146           2.5            5.0           1.9  Iris-virginica\n",
       "147           3.0            5.2           2.0  Iris-virginica\n",
       "148           3.4            5.4           2.3  Iris-virginica\n",
       "149           3.0            5.1           1.8  Iris-virginica\n",
       "\n",
       "[150 rows x 4 columns]"
      ]
     },
     "execution_count": 87,
     "metadata": {},
     "output_type": "execute_result"
    }
   ],
   "source": [
    "df_box=df.iloc[:,1:5]\n",
    "df_box"
   ]
  },
  {
   "cell_type": "code",
   "execution_count": 88,
   "id": "56ea187b",
   "metadata": {},
   "outputs": [
    {
     "data": {
      "text/plain": [
       "<AxesSubplot:>"
      ]
     },
     "execution_count": 88,
     "metadata": {},
     "output_type": "execute_result"
    },
    {
     "data": {
      "image/png": "[encoded data removed]",
      "text/plain": [
       "<Figure size 432x288 with 1 Axes>"
      ]
     },
     "metadata": {
      "needs_background": "light"
     },
     "output_type": "display_data"
    }
   ],
   "source": [
    "\n",
    "\n",
    "# Create the boxplot\n",
    "sns.boxplot(data=df_box,\n",
    "palette=\"Paired\")\n"
   ]
  },
  {
   "cell_type": "code",
   "execution_count": 89,
   "id": "9d32f9b3",
   "metadata": {},
   "outputs": [
    {
     "data": {
      "text/plain": [
       "<AxesSubplot:xlabel='Species', ylabel='PetalWidthCm'>"
      ]
     },
     "execution_count": 89,
     "metadata": {},
     "output_type": "execute_result"
    },
    {
     "data": {
      "image/png": "[encoded data removed]",
      "text/plain": [
       "<Figure size 1152x1152 with 4 Axes>"
      ]
     },
     "metadata": {
      "needs_background": "light"
     },
     "output_type": "display_data"
    }
   ],
   "source": [
    "fig, ax = plt.subplots(2,2, figsize=(16,16))\n",
    "sns.boxplot(x='Species',y='PetalLengthCm',data=df,ax=ax[0,0])\n",
    "sns.boxplot(x='Species',y='SepalLengthCm',data=df,ax=ax[0,1])\n",
    "sns.boxplot(x='Species',y='SepalWidthCm',data=df,ax=ax[1,0])\n",
    "sns.boxplot(x='Species',y='PetalWidthCm',data=df,ax=ax[1,1])"
   ]
  },
  {
   "cell_type": "code",
   "execution_count": 97,
   "id": "9622aaf7",
   "metadata": {},
   "outputs": [
    {
     "data": {
      "text/plain": [
       "<seaborn.axisgrid.PairGrid at 0x1abc5d04e80>"
      ]
     },
     "execution_count": 97,
     "metadata": {},
     "output_type": "execute_result"
    },
    {
     "data": {
      "image/png": "[encoded data removed]",
      "text/plain": [
       "<Figure size 900x900 with 30 Axes>"
      ]
     },
     "metadata": {
      "needs_background": "light"
     },
     "output_type": "display_data"
    }
   ],
   "source": [
    "sns.pairplot(df)"
   ]
  },
  {
   "cell_type": "code",
   "execution_count": 213,
   "id": "37da28bf",
   "metadata": {},
   "outputs": [
    {
     "name": "stdout",
     "output_type": "stream",
     "text": [
      "##########After Label Encoding###########\n",
      "     SepalLengthCm  SepalWidthCm  PetalLengthCm  PetalWidthCm  Species\n",
      "0              5.1           3.5            1.4           0.2        0\n",
      "1              4.9           3.0            1.4           0.2        0\n",
      "2              4.7           3.2            1.3           0.2        0\n",
      "3              4.6           3.1            1.5           0.2        0\n",
      "4              5.0           3.6            1.4           0.2        0\n",
      "..             ...           ...            ...           ...      ...\n",
      "145            6.7           3.0            5.2           2.3        2\n",
      "146            6.3           2.5            5.0           1.9        2\n",
      "147            6.5           3.0            5.2           2.0        2\n",
      "148            6.2           3.4            5.4           2.3        2\n",
      "149            5.9           3.0            5.1           1.8        2\n",
      "\n",
      "[150 rows x 5 columns]\n"
     ]
    }
   ],
   "source": [
    "from sklearn.preprocessing import LabelEncoder\n",
    "labelencoder = LabelEncoder()\n",
    "df['Species'] = labelencoder.fit_transform(df['Species'])\n",
    "print(\"##########After Label Encoding###########\")\n",
    "print(df)"
   ]
  },
  {
   "cell_type": "code",
   "execution_count": 214,
   "id": "4e14fc82",
   "metadata": {},
   "outputs": [
    {
     "data": {
      "text/plain": [
       "<AxesSubplot:>"
      ]
     },
     "execution_count": 214,
     "metadata": {},
     "output_type": "execute_result"
    },
    {
     "data": {
      "image/png": "[encoded data removed]",
      "text/plain": [
       "<Figure size 720x720 with 2 Axes>"
      ]
     },
     "metadata": {
      "needs_background": "light"
     },
     "output_type": "display_data"
    }
   ],
   "source": [
    "correlation=df.corr()\n",
    "plt.figure(figsize=(10,10))\n",
    "sns.heatmap(correlation,annot=True,cmap = \"magma\")"
   ]
  },
  {
   "cell_type": "code",
   "execution_count": 215,
   "id": "43365b7b",
   "metadata": {},
   "outputs": [],
   "source": [
    "# Selecting features - [Pregnancies,Glucose, Insulin, BMI, Age]\n",
    "X = df.iloc[:, [0,2,3]].values\n",
    "Y = df.iloc[:, 4].values"
   ]
  },
  {
   "cell_type": "code",
   "execution_count": 216,
   "id": "7aaecbb6",
   "metadata": {},
   "outputs": [],
   "source": [
    "# Splitting X and Y\n",
    "from sklearn.model_selection import train_test_split\n",
    "X_train, X_test, Y_train, Y_test = train_test_split(X, Y, test_size = 0.20, random_state = 42, stratify = df['Species'] )"
   ]
  },
  {
   "cell_type": "markdown",
   "id": "1e22d430",
   "metadata": {},
   "source": [
    "Feature scaling"
   ]
  },
  {
   "cell_type": "code",
   "execution_count": 217,
   "id": "6c08c46d",
   "metadata": {},
   "outputs": [],
   "source": [
    "# Using MinMaxScaler\n",
    "from sklearn.preprocessing import MinMaxScaler\n",
    "sc = MinMaxScaler()\n",
    "\n",
    "X_train = sc.fit_transform(X_train)\n",
    "\n",
    "X_test = sc.transform(X_test)"
   ]
  },
  {
   "cell_type": "markdown",
   "id": "8c3da092",
   "metadata": {},
   "source": [
    "## **Applying KNN algorithm**"
   ]
  },
  {
   "cell_type": "code",
   "execution_count": 218,
   "id": "d8780232",
   "metadata": {},
   "outputs": [
    {
     "data": {
      "text/plain": [
       "KNeighborsClassifier(n_neighbors=24)"
      ]
     },
     "execution_count": 218,
     "metadata": {},
     "output_type": "execute_result"
    }
   ],
   "source": [
    "# K nearest neighbors Algorithm\n",
    "from sklearn.neighbors import KNeighborsClassifier\n",
    "knn = KNeighborsClassifier(n_neighbors = 24, metric = 'minkowski', p = 2)\n",
    "knn.fit(X_train, Y_train)"
   ]
  },
  {
   "cell_type": "code",
   "execution_count": 219,
   "id": "ae7da6a4",
   "metadata": {},
   "outputs": [],
   "source": [
    "# Making predictions on test dataset\n",
    "Y_pred_knn = knn.predict(X_test)"
   ]
  },
  {
   "cell_type": "code",
   "execution_count": 220,
   "id": "f34bec21",
   "metadata": {},
   "outputs": [],
   "source": [
    "# Evaluating using accuracy_score metric\n",
    "from sklearn.metrics import accuracy_score\n",
    "accuracy_knn = accuracy_score(Y_test, Y_pred_knn)\n"
   ]
  },
  {
   "cell_type": "code",
   "execution_count": 221,
   "id": "aad13984",
   "metadata": {},
   "outputs": [
    {
     "name": "stdout",
     "output_type": "stream",
     "text": [
      "K Nearest neighbors: 93.33333333333333\n"
     ]
    }
   ],
   "source": [
    "# Accuracy on test set\n",
    "print(\"K Nearest neighbors: \" + str(accuracy_knn * 100))"
   ]
  },
  {
   "cell_type": "markdown",
   "id": "2ae39bc1",
   "metadata": {},
   "source": [
    "### creating a list to store the accuracy of different machine learning algorithm on this dataset"
   ]
  },
  {
   "cell_type": "code",
   "execution_count": 222,
   "id": "aa0bccc8",
   "metadata": {},
   "outputs": [],
   "source": [
    "m_accuracy=[] #creating a list to store the accuracy of different machine learning algorithm on this dataset\n",
    "m_accuracy.append(accuracy_knn*100)"
   ]
  },
  {
   "cell_type": "code",
   "execution_count": 223,
   "id": "949e4065",
   "metadata": {},
   "outputs": [
    {
     "name": "stdout",
     "output_type": "stream",
     "text": [
      "Confusion Matrix: [[10  0  0]\n",
      " [ 0  9  1]\n",
      " [ 0  1  9]]\n"
     ]
    }
   ],
   "source": [
    "from sklearn.metrics import confusion_matrix\n",
    "print(\"Confusion Matrix:\",confusion_matrix(Y_test, Y_pred_knn))"
   ]
  },
  {
   "cell_type": "code",
   "execution_count": 224,
   "id": "865efd3f",
   "metadata": {},
   "outputs": [
    {
     "data": {
      "text/plain": [
       "<AxesSubplot:>"
      ]
     },
     "execution_count": 224,
     "metadata": {},
     "output_type": "execute_result"
    },
    {
     "data": {
      "image/png": "[encoded data removed]",
      "text/plain": [
       "<Figure size 432x288 with 2 Axes>"
      ]
     },
     "metadata": {
      "needs_background": "light"
     },
     "output_type": "display_data"
    }
   ],
   "source": [
    "# Heatmap of Confusion matrix\n",
    "sns.heatmap(pd.DataFrame(confusion_matrix(Y_test, Y_pred_knn)), annot=True)"
   ]
  },
  {
   "cell_type": "markdown",
   "id": "6783cbe2",
   "metadata": {},
   "source": [
    "**Applying SVM ALGORITHM**"
   ]
  },
  {
   "cell_type": "code",
   "execution_count": 225,
   "id": "c85614b3",
   "metadata": {},
   "outputs": [
    {
     "name": "stdout",
     "output_type": "stream",
     "text": [
      "Accuracy:  93.33333333333333\n"
     ]
    }
   ],
   "source": [
    "from sklearn.svm import SVC\n",
    "\n",
    "#### RBF SVM Classification:\n",
    "classifier = SVC(kernel = 'rbf', random_state = 0)\n",
    "\n",
    "\n",
    "classifier.fit(X_train, Y_train)\n",
    "Y_pred_rbf_svm=classifier.predict(X_test)\n",
    "from sklearn.metrics import accuracy_score\n",
    "accuracy_rbf_svm=accuracy_score(Y_test, Y_pred_rbf_svm)*100\n",
    "print(\"Accuracy: \",accuracy_rbf_svm)"
   ]
  },
  {
   "cell_type": "code",
   "execution_count": 226,
   "id": "7a16a017",
   "metadata": {},
   "outputs": [
    {
     "name": "stdout",
     "output_type": "stream",
     "text": [
      "Confusion Matrix: [[10  0  0]\n",
      " [ 0  9  1]\n",
      " [ 0  1  9]]\n"
     ]
    },
    {
     "data": {
      "text/plain": [
       "<AxesSubplot:>"
      ]
     },
     "execution_count": 226,
     "metadata": {},
     "output_type": "execute_result"
    },
    {
     "data": {
      "image/png": "[encoded data removed]",
      "text/plain": [
       "<Figure size 432x288 with 2 Axes>"
      ]
     },
     "metadata": {
      "needs_background": "light"
     },
     "output_type": "display_data"
    }
   ],
   "source": [
    "from sklearn.metrics import confusion_matrix\n",
    "print(\"Confusion Matrix:\",confusion_matrix(Y_test, Y_pred_rbf_svm))# Heatmap of Confusion matrix\n",
    "sns.heatmap(pd.DataFrame(confusion_matrix(Y_test, Y_pred_rbf_svm)), annot=True)"
   ]
  },
  {
   "cell_type": "markdown",
   "id": "cca0023c",
   "metadata": {},
   "source": [
    "#### Linear SVM Classification:"
   ]
  },
  {
   "cell_type": "code",
   "execution_count": 227,
   "id": "32c40760",
   "metadata": {},
   "outputs": [
    {
     "name": "stdout",
     "output_type": "stream",
     "text": [
      "Accuracy:  93.33333333333333\n"
     ]
    }
   ],
   "source": [
    "from sklearn.svm import SVC\n",
    "\n",
    "#### Linear SVM Classification:\n",
    "classifier= SVC(kernel = 'linear', random_state = 0)\n",
    "\n",
    "classifier.fit(X_train, Y_train)\n",
    "Y_pred_lin_svm=classifier.predict(X_test)\n",
    "from sklearn.metrics import accuracy_score\n",
    "accuracy_linear_svm=accuracy_score(Y_test, Y_pred_lin_svm)*100\n",
    "print(\"Accuracy: \",accuracy_linear_svm)"
   ]
  },
  {
   "cell_type": "code",
   "execution_count": 228,
   "id": "5dac2562",
   "metadata": {},
   "outputs": [
    {
     "name": "stdout",
     "output_type": "stream",
     "text": [
      "Confusion Matrix: [[10  0  0]\n",
      " [ 0  9  1]\n",
      " [ 0  1  9]]\n"
     ]
    }
   ],
   "source": [
    "from sklearn.metrics import confusion_matrix\n",
    "print(\"Confusion Matrix:\",confusion_matrix(Y_test, Y_pred_lin_svm))"
   ]
  },
  {
   "cell_type": "code",
   "execution_count": 229,
   "id": "b6497fd9",
   "metadata": {},
   "outputs": [
    {
     "data": {
      "text/plain": [
       "<AxesSubplot:>"
      ]
     },
     "execution_count": 229,
     "metadata": {},
     "output_type": "execute_result"
    },
    {
     "data": {
      "image/png": "[encoded data removed]",
      "text/plain": [
       "<Figure size 432x288 with 2 Axes>"
      ]
     },
     "metadata": {
      "needs_background": "light"
     },
     "output_type": "display_data"
    }
   ],
   "source": [
    "# Heatmap of Confusion matrix\n",
    "sns.heatmap(pd.DataFrame(confusion_matrix(Y_test, Y_pred_lin_svm)), annot=True)"
   ]
  },
  {
   "cell_type": "code",
   "execution_count": 230,
   "id": "fbbdbd26",
   "metadata": {},
   "outputs": [
    {
     "name": "stdout",
     "output_type": "stream",
     "text": [
      "Accuracy:  96.66666666666667\n"
     ]
    }
   ],
   "source": [
    "from sklearn.svm import SVC\n",
    "\n",
    "#### Polynomial SVM Classification:\n",
    "classifier = SVC(kernel = 'poly', random_state = 0,degree = 4)\n",
    "\n",
    "\n",
    "classifier.fit(X_train, Y_train)\n",
    "Y_pred_poly_svm=classifier.predict(X_test)\n",
    "from sklearn.metrics import accuracy_score\n",
    "accuracy_poly_svm=accuracy_score(Y_test, Y_pred_poly_svm)*100\n",
    "print(\"Accuracy: \",accuracy_poly_svm)"
   ]
  },
  {
   "cell_type": "code",
   "execution_count": 231,
   "id": "b8094d74",
   "metadata": {},
   "outputs": [
    {
     "name": "stdout",
     "output_type": "stream",
     "text": [
      "Confusion Matrix: [[10  0  0]\n",
      " [ 0  9  1]\n",
      " [ 0  0 10]]\n"
     ]
    }
   ],
   "source": [
    "from sklearn.metrics import confusion_matrix\n",
    "print(\"Confusion Matrix:\",confusion_matrix(Y_test, Y_pred_poly_svm))"
   ]
  },
  {
   "cell_type": "code",
   "execution_count": 232,
   "id": "3c73ea26",
   "metadata": {},
   "outputs": [
    {
     "data": {
      "text/plain": [
       "<AxesSubplot:>"
      ]
     },
     "execution_count": 232,
     "metadata": {},
     "output_type": "execute_result"
    },
    {
     "data": {
      "image/png": "[encoded data removed]",
      "text/plain": [
       "<Figure size 432x288 with 2 Axes>"
      ]
     },
     "metadata": {
      "needs_background": "light"
     },
     "output_type": "display_data"
    }
   ],
   "source": [
    "# Heatmap of Confusion matrix\n",
    "sns.heatmap(pd.DataFrame(confusion_matrix(Y_test, Y_pred_poly_svm)), annot=True)"
   ]
  },
  {
   "cell_type": "markdown",
   "id": "b5300687",
   "metadata": {},
   "source": [
    "#### Sigmoid SVM Classification:"
   ]
  },
  {
   "cell_type": "code",
   "execution_count": 233,
   "id": "188de7e3",
   "metadata": {},
   "outputs": [
    {
     "name": "stdout",
     "output_type": "stream",
     "text": [
      "Accuracy:  10.0\n"
     ]
    }
   ],
   "source": [
    "from sklearn.svm import SVC\n",
    "\n",
    "#### Sigmoid SVM Classification:\n",
    "classifier = SVC(kernel = 'sigmoid', random_state = 0)\n",
    "\n",
    "classifier.fit(X_train, Y_train)\n",
    "Y_pred_sigm_svm=classifier.predict(X_test)\n",
    "from sklearn.metrics import accuracy_score\n",
    "accuracy_sigmoid_svm= accuracy_score(Y_test, Y_pred_sigm_svm)*100\n",
    "print(\"Accuracy: \",accuracy_sigmoid_svm)\n"
   ]
  },
  {
   "cell_type": "code",
   "execution_count": 234,
   "id": "2e05e7d9",
   "metadata": {},
   "outputs": [
    {
     "name": "stdout",
     "output_type": "stream",
     "text": [
      "Confusion Matrix: [[ 3  0  7]\n",
      " [ 6  0  4]\n",
      " [10  0  0]]\n"
     ]
    }
   ],
   "source": [
    "from sklearn.metrics import confusion_matrix\n",
    "print(\"Confusion Matrix:\",confusion_matrix(Y_test, Y_pred_sigm_svm))"
   ]
  },
  {
   "cell_type": "code",
   "execution_count": 235,
   "id": "7d28f531",
   "metadata": {},
   "outputs": [
    {
     "data": {
      "text/plain": [
       "<AxesSubplot:>"
      ]
     },
     "execution_count": 235,
     "metadata": {},
     "output_type": "execute_result"
    },
    {
     "data": {
      "image/png": "[encoded data removed]",
      "text/plain": [
       "<Figure size 432x288 with 2 Axes>"
      ]
     },
     "metadata": {
      "needs_background": "light"
     },
     "output_type": "display_data"
    }
   ],
   "source": [
    "# Heatmap of Confusion matrix\n",
    "sns.heatmap(pd.DataFrame(confusion_matrix(Y_test, Y_pred_sigm_svm)), annot=True)"
   ]
  },
  {
   "cell_type": "markdown",
   "id": "f9fa8218",
   "metadata": {},
   "source": [
    "### After applying SVM algorithm, for differenet kernels, we find highest accuracy of SVM using polynomial function."
   ]
  },
  {
   "cell_type": "code",
   "execution_count": 236,
   "id": "52f35356",
   "metadata": {},
   "outputs": [],
   "source": [
    "m_accuracy.append(accuracy_linear_svm)"
   ]
  },
  {
   "cell_type": "markdown",
   "id": "f09c10ec",
   "metadata": {},
   "source": [
    "**Applying Naive Bayes**"
   ]
  },
  {
   "cell_type": "code",
   "execution_count": 237,
   "id": "eb77b743",
   "metadata": {},
   "outputs": [
    {
     "name": "stdout",
     "output_type": "stream",
     "text": [
      "Accuracy  : 96.66666666666667\n"
     ]
    }
   ],
   "source": [
    "from sklearn.naive_bayes import GaussianNB\n",
    "classifier = GaussianNB()\n",
    "classifier.fit(X_train, Y_train)\n",
    "y_pred_nav_bayes=classifier.predict(X_test)\n",
    "from sklearn.metrics import accuracy_score\n",
    "accuracy_naive_bayes=accuracy_score(Y_test,y_pred_nav_bayes)*100\n",
    "print(\"Accuracy  :\",accuracy_naive_bayes)\n"
   ]
  },
  {
   "cell_type": "code",
   "execution_count": 238,
   "id": "14aa040d",
   "metadata": {},
   "outputs": [
    {
     "name": "stdout",
     "output_type": "stream",
     "text": [
      "Confusion Matrix: [[10  0  0]\n",
      " [ 0  9  1]\n",
      " [ 0  0 10]]\n"
     ]
    }
   ],
   "source": [
    "from sklearn.metrics import confusion_matrix\n",
    "print(\"Confusion Matrix:\",confusion_matrix(Y_test,y_pred_nav_bayes))"
   ]
  },
  {
   "cell_type": "code",
   "execution_count": 239,
   "id": "24c26dc9",
   "metadata": {},
   "outputs": [
    {
     "data": {
      "text/plain": [
       "<AxesSubplot:>"
      ]
     },
     "execution_count": 239,
     "metadata": {},
     "output_type": "execute_result"
    },
    {
     "data": {
      "image/png": "[encoded data removed]",
      "text/plain": [
       "<Figure size 432x288 with 2 Axes>"
      ]
     },
     "metadata": {
      "needs_background": "light"
     },
     "output_type": "display_data"
    }
   ],
   "source": [
    "# Heatmap of Confusion matrix\n",
    "sns.heatmap(pd.DataFrame(confusion_matrix(Y_test,y_pred_nav_bayes)), annot=True)"
   ]
  },
  {
   "cell_type": "code",
   "execution_count": 240,
   "id": "c091195c",
   "metadata": {},
   "outputs": [],
   "source": [
    "m_accuracy.append(accuracy_naive_bayes)"
   ]
  },
  {
   "cell_type": "markdown",
   "id": "6bdf6587",
   "metadata": {},
   "source": [
    "**Applying Random Forest**"
   ]
  },
  {
   "cell_type": "code",
   "execution_count": 241,
   "id": "0c395fbc",
   "metadata": {},
   "outputs": [
    {
     "name": "stdout",
     "output_type": "stream",
     "text": [
      "Accuracy   : 90.0\n",
      "Confusion Matrix: [[10  0  0]\n",
      " [ 0  9  1]\n",
      " [ 0  2  8]]\n"
     ]
    }
   ],
   "source": [
    "from sklearn.ensemble import RandomForestClassifier\n",
    "classifier = RandomForestClassifier(n_estimators = 100, \n",
    "                criterion = 'gini', random_state =21)\n",
    "\n",
    "\n",
    "classifier.fit(X_train, Y_train)\n",
    "y_pred_rf_gini=classifier.predict(X_test)\n",
    "from sklearn.metrics import accuracy_score\n",
    "accuracy_gini_random_forest=accuracy_score(Y_test,y_pred_rf_gini)*100\n",
    "print(\"Accuracy   :\",accuracy_gini_random_forest)\n",
    "\n",
    "from sklearn.metrics import confusion_matrix\n",
    "print(\"Confusion Matrix:\",confusion_matrix(Y_test,y_pred_rf_gini))"
   ]
  },
  {
   "cell_type": "code",
   "execution_count": 242,
   "id": "7f8e19ee",
   "metadata": {},
   "outputs": [
    {
     "data": {
      "text/plain": [
       "<AxesSubplot:>"
      ]
     },
     "execution_count": 242,
     "metadata": {},
     "output_type": "execute_result"
    },
    {
     "data": {
      "image/png": "[encoded data removed]",
      "text/plain": [
       "<Figure size 432x288 with 2 Axes>"
      ]
     },
     "metadata": {
      "needs_background": "light"
     },
     "output_type": "display_data"
    }
   ],
   "source": [
    "# Heatmap of Confusion matrix\n",
    "sns.heatmap(pd.DataFrame(confusion_matrix(Y_test,y_pred_rf_gini)), annot=True)"
   ]
  },
  {
   "cell_type": "code",
   "execution_count": 243,
   "id": "d84d465e",
   "metadata": {},
   "outputs": [],
   "source": [
    "m_accuracy.append(accuracy_gini_random_forest)"
   ]
  },
  {
   "cell_type": "markdown",
   "id": "43f21371",
   "metadata": {},
   "source": [
    "**Comapiring all the accuracies**"
   ]
  },
  {
   "cell_type": "code",
   "execution_count": 244,
   "id": "4aec082a",
   "metadata": {},
   "outputs": [
    {
     "data": {
      "image/png": "[encoded data removed]",
      "text/plain": [
       "<Figure size 432x288 with 1 Axes>"
      ]
     },
     "metadata": {
      "needs_background": "light"
     },
     "output_type": "display_data"
    }
   ],
   "source": [
    "import matplotlib.pyplot as plt\n",
    "s=pd.Series(m_accuracy,index=['KNN','SVM','Naive-Bayes','Random Forest'])\n",
    "s.plot.bar()\n",
    "plt.grid()\n",
    "plt.xticks(rotation=45)\n",
    "plt.show()"
   ]
  },
  {
   "cell_type": "code",
   "execution_count": 245,
   "id": "dba7a74e",
   "metadata": {},
   "outputs": [
    {
     "name": "stdout",
     "output_type": "stream",
     "text": [
      "Accuracy using KNN algorithm is:  93.33333333333333\n",
      "Accuracy using SVM algorithm is:  93.33333333333333\n",
      "Accuracy using Naive-Bayes algorithm is:  96.66666666666667\n",
      "Accuracy using Random Forest algorithm is:  90.0\n"
     ]
    }
   ],
   "source": [
    "print (\"Accuracy using KNN algorithm is: \", m_accuracy[0])\n",
    "print (\"Accuracy using SVM algorithm is: \", m_accuracy[1])\n",
    "print (\"Accuracy using Naive-Bayes algorithm is: \", m_accuracy[2])\n",
    "print (\"Accuracy using Random Forest algorithm is: \", m_accuracy[3])"
   ]
  },
  {
   "cell_type": "markdown",
   "id": "20c0accd",
   "metadata": {},
   "source": [
    "**After applying different machine learning algorithms, we found the best fit algorithm for our model is Naive Bayes which is giving an accuracy of 96.66%.**"
   ]
  },
  {
   "cell_type": "code",
   "execution_count": null,
   "id": "2491b729",
   "metadata": {},
   "outputs": [],
   "source": []
  }
 ],
 "metadata": {
  "kernelspec": {
   "display_name": "Python 3",
   "language": "python",
   "name": "python3"
  },
  "language_info": {
   "codemirror_mode": {
    "name": "ipython",
    "version": 3
   },
   "file_extension": ".py",
   "mimetype": "text/x-python",
   "name": "python",
   "nbconvert_exporter": "python",
   "pygments_lexer": "ipython3",
   "version": "3.8.8"
  }
 },
 "nbformat": 4,
 "nbformat_minor": 5
}
